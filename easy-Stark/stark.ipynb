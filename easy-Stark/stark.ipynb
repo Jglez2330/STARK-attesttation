{
 "cells": [
  {
   "cell_type": "code",
   "id": "initial_id",
   "metadata": {
    "collapsed": true,
    "ExecuteTime": {
     "end_time": "2024-10-09T00:15:45.756772Z",
     "start_time": "2024-10-09T00:15:45.751814Z"
    }
   },
   "source": "trace = [i for i in range(0, 100)]",
   "outputs": [],
   "execution_count": 30
  },
  {
   "metadata": {
    "ExecuteTime": {
     "end_time": "2024-10-09T00:15:46.154531Z",
     "start_time": "2024-10-09T00:15:46.126224Z"
    }
   },
   "cell_type": "code",
   "source": [
    "from Field import  *\n",
    "from Polynomial import  *\n",
    "exp_factor = 8\n",
    "field = Field.main()\n",
    "g = field.primitive_nth_root(128)\n",
    "h = field.primitive_nth_root(128*exp_factor)\n",
    "\n",
    "G = [g^i for i in range(len(trace))]\n",
    "H = [h^i for i in range(128*exp_factor)]\n"
   ],
   "id": "29857b50778c9b88",
   "outputs": [],
   "execution_count": 31
  },
  {
   "metadata": {
    "ExecuteTime": {
     "end_time": "2024-10-09T00:15:46.166726Z",
     "start_time": "2024-10-09T00:15:46.162857Z"
    }
   },
   "cell_type": "code",
   "source": "trace = [FieldElement(i, Field.main()) for i in trace]",
   "id": "4e5c07788b25c702",
   "outputs": [],
   "execution_count": 32
  },
  {
   "metadata": {
    "ExecuteTime": {
     "end_time": "2024-10-09T00:15:50.129169Z",
     "start_time": "2024-10-09T00:15:46.261124Z"
    }
   },
   "cell_type": "code",
   "source": [
    "fx = Polynomial.interpolate_domain(G, trace)\n",
    "fx"
   ],
   "id": "4099bb522724bcd",
   "outputs": [
    {
     "data": {
      "text/plain": [
       "<Polynomial.Polynomial at 0x10631fec0>"
      ]
     },
     "execution_count": 33,
     "metadata": {},
     "output_type": "execute_result"
    }
   ],
   "execution_count": 33
  },
  {
   "metadata": {
    "ExecuteTime": {
     "end_time": "2024-10-09T00:15:50.425255Z",
     "start_time": "2024-10-09T00:15:50.131648Z"
    }
   },
   "cell_type": "code",
   "source": [
    "random_w = FieldElement(4, Field.main())\n",
    "H_w = [h*random_w for h in H]\n",
    "fx_exp_eval = fx.evaluate_domain(H_w)\n"
   ],
   "id": "4ce92fe10900be47",
   "outputs": [],
   "execution_count": 34
  },
  {
   "metadata": {
    "ExecuteTime": {
     "end_time": "2024-10-09T00:15:50.439909Z",
     "start_time": "2024-10-09T00:15:50.429245Z"
    }
   },
   "cell_type": "code",
   "source": [
    "from Merkle import *\n",
    "print(len(fx_exp_eval))\n",
    "fx_root =  MerkleTree(fx_exp_eval)\n",
    "fx_root"
   ],
   "id": "7fa2c30a68c29b10",
   "outputs": [
    {
     "name": "stdout",
     "output_type": "stream",
     "text": [
      "1024\n"
     ]
    },
    {
     "data": {
      "text/plain": [
       "<Merkle.MerkleTree at 0x105cab440>"
      ]
     },
     "execution_count": 35,
     "metadata": {},
     "output_type": "execute_result"
    }
   ],
   "execution_count": 35
  },
  {
   "metadata": {},
   "cell_type": "markdown",
   "source": [
    "# Contrains\n",
    "3 constrains\n",
    "final and initial value must be the same\n",
    "and intermidiate value must be the following formula:\n",
    "$a_n = a_{n-1} + m$\n",
    "where m is the slope of the line"
   ],
   "id": "9c5c10cab3838f79"
  },
  {
   "metadata": {
    "ExecuteTime": {
     "end_time": "2024-10-09T00:15:50.527490Z",
     "start_time": "2024-10-09T00:15:50.444062Z"
    }
   },
   "cell_type": "code",
   "source": [
    "p0_num = fx - Polynomial([FieldElement(0, Field.main())])\n",
    "x = Polynomial([field.zero(), field.one()])\n",
    "p0_dem = x - Polynomial([G[0]])\n",
    "p0 = p0_num/p0_dem\n",
    "p0"
   ],
   "id": "30436ee0ad11cd28",
   "outputs": [
    {
     "data": {
      "text/plain": [
       "<Polynomial.Polynomial at 0x105d029c0>"
      ]
     },
     "execution_count": 36,
     "metadata": {},
     "output_type": "execute_result"
    }
   ],
   "execution_count": 36
  },
  {
   "metadata": {
    "ExecuteTime": {
     "end_time": "2024-10-09T00:15:50.617169Z",
     "start_time": "2024-10-09T00:15:50.531647Z"
    }
   },
   "cell_type": "code",
   "source": [
    "p1_num = fx - Polynomial([FieldElement(99, Field.main())])\n",
    "x = Polynomial([field.zero(), field.one()])\n",
    "p1_dem = x - Polynomial([G[99]])\n",
    "p1 = p1_num/p1_dem\n",
    "p1"
   ],
   "id": "70dd59573505fbd4",
   "outputs": [
    {
     "data": {
      "text/plain": [
       "<Polynomial.Polynomial at 0x1066b3fb0>"
      ]
     },
     "execution_count": 37,
     "metadata": {},
     "output_type": "execute_result"
    }
   ],
   "execution_count": 37
  },
  {
   "metadata": {
    "ExecuteTime": {
     "end_time": "2024-10-09T00:15:50.653689Z",
     "start_time": "2024-10-09T00:15:50.619318Z"
    }
   },
   "cell_type": "code",
   "source": [
    "p2_const = FieldElement(0, Field.main())\n",
    "p2_num = fx.scale(g) - fx - Polynomial([FieldElement(1, Field.main())])\n",
    "x = Polynomial([field.zero(), field.one()])\n",
    "p2_dem = Polynomial([FieldElement(1, Field.main())])\n",
    "for i in range(1, 99):\n",
    "    p2_dem *= (x - Polynomial([G[i]]))\n",
    "p2 =  p2_num/p2_dem\n",
    "p2"
   ],
   "id": "43133a2481eab9e9",
   "outputs": [
    {
     "data": {
      "text/plain": [
       "<Polynomial.Polynomial at 0x106705730>"
      ]
     },
     "execution_count": 38,
     "metadata": {},
     "output_type": "execute_result"
    }
   ],
   "execution_count": 38
  },
  {
   "metadata": {
    "ExecuteTime": {
     "end_time": "2024-10-09T00:15:50.952208Z",
     "start_time": "2024-10-09T00:15:50.655436Z"
    }
   },
   "cell_type": "code",
   "source": [
    "cp = p0 + p1 + p2\n",
    "cp_eval = cp.evaluate_domain(H_w)\n",
    "mk = MerkleTree(cp_eval)"
   ],
   "id": "84832d1da7961572",
   "outputs": [],
   "execution_count": 39
  },
  {
   "metadata": {},
   "cell_type": "markdown",
   "source": "# FRI",
   "id": "ab0f1a428064bcd4"
  },
  {
   "metadata": {
    "ExecuteTime": {
     "end_time": "2024-10-09T00:15:51.068997Z",
     "start_time": "2024-10-09T00:15:50.954258Z"
    }
   },
   "cell_type": "code",
   "source": [
    "from FRI import *\n",
    "\n",
    "fri = Fri(H_w)\n",
    "\n",
    "fri_polys, fri_domains, fri_layers, fri_merkles = fri.commit(cp, H_w, cp_eval, mk, None)"
   ],
   "id": "927439233600855c",
   "outputs": [
    {
     "name": "stdout",
     "output_type": "stream",
     "text": [
      "next_len fri layer: 512\n",
      "next_len fri layer: 256\n",
      "next_len fri layer: 128\n",
      "next_len fri layer: 64\n",
      "next_len fri layer: 32\n",
      "next_len fri layer: 16\n",
      "next_len fri layer: 8\n"
     ]
    }
   ],
   "execution_count": 40
  },
  {
   "metadata": {
    "ExecuteTime": {
     "end_time": "2024-10-09T00:15:51.075842Z",
     "start_time": "2024-10-09T00:15:51.071083Z"
    }
   },
   "cell_type": "code",
   "source": [
    "#fri.decommit(1, fri_polys, fri_domains, fri_layers, fri_merkles)\n",
    "[len(i) for i in fri_layers]"
   ],
   "id": "5620762e75172edd",
   "outputs": [
    {
     "data": {
      "text/plain": [
       "[1024, 512, 256, 128, 64, 32, 16, 8]"
      ]
     },
     "execution_count": 41,
     "metadata": {},
     "output_type": "execute_result"
    }
   ],
   "execution_count": 41
  },
  {
   "metadata": {},
   "cell_type": "markdown",
   "source": "",
   "id": "604d7d1971cdd170"
  },
  {
   "metadata": {},
   "cell_type": "markdown",
   "source": [
    "# Verify\n",
    "\n",
    "\n"
   ],
   "id": "93bc91618c5f1072"
  },
  {
   "metadata": {
    "ExecuteTime": {
     "end_time": "2024-10-09T00:15:51.087027Z",
     "start_time": "2024-10-09T00:15:51.081401Z"
    }
   },
   "cell_type": "code",
   "source": "mt_root = fx_root ",
   "id": "1c9bdfdadbf8b157",
   "outputs": [],
   "execution_count": 42
  },
  {
   "metadata": {
    "ExecuteTime": {
     "end_time": "2024-10-09T00:15:51.092327Z",
     "start_time": "2024-10-09T00:15:51.088787Z"
    }
   },
   "cell_type": "code",
   "source": [
    "# 3 cp so 3 alphas\n",
    "alpha0, alpha1,alpha2 = FieldElement(1, Field.main()), FieldElement(1, Field.main()), FieldElement(1, Field.main())"
   ],
   "id": "9f70ef8fa30ae9da",
   "outputs": [],
   "execution_count": 43
  },
  {
   "metadata": {
    "ExecuteTime": {
     "end_time": "2024-10-09T00:15:51.100653Z",
     "start_time": "2024-10-09T00:15:51.094529Z"
    }
   },
   "cell_type": "code",
   "source": [
    "# CP merkle root\n",
    "cp_root = mk"
   ],
   "id": "4be01ce2b344978",
   "outputs": [],
   "execution_count": 44
  },
  {
   "metadata": {
    "ExecuteTime": {
     "end_time": "2024-10-09T00:15:51.105665Z",
     "start_time": "2024-10-09T00:15:51.102645Z"
    }
   },
   "cell_type": "code",
   "source": "idx = 1",
   "id": "662fa919d5a82b04",
   "outputs": [],
   "execution_count": 45
  },
  {
   "metadata": {
    "ExecuteTime": {
     "end_time": "2024-10-09T00:15:51.111024Z",
     "start_time": "2024-10-09T00:15:51.107309Z"
    }
   },
   "cell_type": "code",
   "source": "proof_f = fri.decommit_on_query(idx, fx_exp_eval, mt_root)",
   "id": "4a7204ca3fc3f35",
   "outputs": [],
   "execution_count": 46
  },
  {
   "metadata": {
    "ExecuteTime": {
     "end_time": "2024-10-09T00:15:51.119973Z",
     "start_time": "2024-10-09T00:15:51.113200Z"
    }
   },
   "cell_type": "code",
   "source": "proof_cp = fri.decommit_on_fri(idx, fri_polys, fri_domains, fri_layers, fri_merkles)\n",
   "id": "85a7cfe47032e101",
   "outputs": [],
   "execution_count": 47
  },
  {
   "metadata": {
    "ExecuteTime": {
     "end_time": "2024-10-09T00:15:51.125175Z",
     "start_time": "2024-10-09T00:15:51.121962Z"
    }
   },
   "cell_type": "code",
   "source": [
    "# Basic check\n",
    "assert len(proof_cp) % 2\n",
    "v_last_one = proof_cp.pop()"
   ],
   "id": "b2a5a34245831d68",
   "outputs": [],
   "execution_count": 48
  },
  {
   "metadata": {
    "ExecuteTime": {
     "end_time": "2024-10-09T00:15:51.133409Z",
     "start_time": "2024-10-09T00:15:51.128130Z"
    }
   },
   "cell_type": "code",
   "source": [
    "last_one = fri_polys[-1].coefficients[0] # poly 0 shall be constant\n",
    "\n",
    "v_last_one\n",
    "assert v_last_one == last_one\n"
   ],
   "id": "cde9627bd80f02dd",
   "outputs": [],
   "execution_count": 49
  },
  {
   "metadata": {
    "ExecuteTime": {
     "end_time": "2024-10-09T00:15:51.138230Z",
     "start_time": "2024-10-09T00:15:51.135008Z"
    }
   },
   "cell_type": "code",
   "source": "from Merkle import verify_decommitment",
   "id": "34afeb7103b4df86",
   "outputs": [],
   "execution_count": 50
  },
  {
   "metadata": {
    "ExecuteTime": {
     "end_time": "2024-10-09T00:15:51.145614Z",
     "start_time": "2024-10-09T00:15:51.140149Z"
    }
   },
   "cell_type": "code",
   "source": [
    "# Check polynomial constraint\n",
    "# First check evaluation of polynomial f is honest\n",
    "v_f_eval = proof_f[0::2]\n",
    "v_f_auth = proof_f[1::2]\n",
    "assert len(v_f_eval) == len(v_f_auth)\n",
    "for i in range(len(v_f_eval)):\n",
    "    assert verify_decommitment(idx + 8 * i, v_f_eval[i], v_f_auth[i], mt_root.root ), f'in iter {i}, go wrong'\n",
    "# Then check whether they could satify the recursive condition\n",
    "v_cp0 = proof_cp[:2]\n",
    "length = len(fri_layers[0]) # 8192 shoud be a prior knowledge\n",
    "assert verify_decommitment(idx % length, v_cp0[0], v_cp0[1], cp_root.root)"
   ],
   "id": "81c59224004fcedf",
   "outputs": [
    {
     "name": "stdout",
     "output_type": "stream",
     "text": [
      "50f954f4318abdc3779fb24e1eea92c6284aaf8978c453e21afe960b37a10698\n",
      "50f954f4318abdc3779fb24e1eea92c6284aaf8978c453e21afe960b37a10698\n",
      "6580468d0c0f1601e03acca5ea0ac3e746637455f0f85c58abb4ba65bbdf446e\n"
     ]
    }
   ],
   "execution_count": 51
  },
  {
   "metadata": {
    "ExecuteTime": {
     "end_time": "2024-10-09T00:15:51.152593Z",
     "start_time": "2024-10-09T00:15:51.147289Z"
    }
   },
   "cell_type": "code",
   "source": [
    "# Check the polynomial constraint\n",
    "fx = v_f_eval[0]\n",
    "fgx = v_f_eval[1]\n",
    "x = H_w[idx]\n",
    "p0 = fx / (x - G[0])\n",
    "p1 = (fx - FieldElement(99, Field.main()))/ (x - G[99])\n",
    "p2_num = fgx - fx - FieldElement(1, Field.main())\n",
    "p2_dem = FieldElement(1, Field.main())\n",
    "for i in range(1, 99):\n",
    "    p2_dem *= (x - G[i])\n",
    "\n",
    "p2 = p2_num/p2_dem\n",
    "assert v_cp0[0] == (p0 + p1 + p2)\n",
    "print(\"poly constraint success!\")"
   ],
   "id": "33a596d603c39d26",
   "outputs": [
    {
     "name": "stdout",
     "output_type": "stream",
     "text": [
      "poly constraint success!\n"
     ]
    }
   ],
   "execution_count": 52
  },
  {
   "metadata": {
    "ExecuteTime": {
     "end_time": "2024-10-09T00:15:51.160339Z",
     "start_time": "2024-10-09T00:15:51.154530Z"
    }
   },
   "cell_type": "code",
   "source": [
    "# Check low degree\n",
    "v_cp = proof_cp[::2]\n",
    "v_auth = proof_cp[1::2]\n",
    "assert len(v_cp) == len(v_auth)\n",
    "assert len(v_cp) % 2 == 0\n",
    "k = length\n",
    "for i in range(len(v_cp)//2 -1):\n",
    "    iter_idx = idx % k\n",
    "    iter_sib_idx = (idx + k // 2) % k\n",
    "    assert verify_decommitment(iter_idx, v_cp[2*i], v_auth[2*i], fri_merkles[i].root)\n",
    "    assert verify_decommitment(iter_sib_idx, v_cp[(2*i) + 1], v_auth[(2*i)+1], fri_merkles[i].root)\n",
    "    k = k // 2"
   ],
   "id": "c2073bac0f19ae9c",
   "outputs": [
    {
     "name": "stdout",
     "output_type": "stream",
     "text": [
      "6580468d0c0f1601e03acca5ea0ac3e746637455f0f85c58abb4ba65bbdf446e\n",
      "6580468d0c0f1601e03acca5ea0ac3e746637455f0f85c58abb4ba65bbdf446e\n",
      "f7a3ad4bda829563a14197aba449586afeb35ca620265a47f19df9bb335eee61\n",
      "f7a3ad4bda829563a14197aba449586afeb35ca620265a47f19df9bb335eee61\n",
      "2cbfaa1a97184b654b4fb8425772fab04513fc36b323b0a3df6421676831d072\n",
      "2cbfaa1a97184b654b4fb8425772fab04513fc36b323b0a3df6421676831d072\n",
      "c77ec69880abc94f18d360f46e631ea6aa9bc6896e36edfafcdc645148af8200\n",
      "c77ec69880abc94f18d360f46e631ea6aa9bc6896e36edfafcdc645148af8200\n",
      "196456653b3c104012db22662ca5578aeba294ecfc999eb673324da56f702932\n",
      "196456653b3c104012db22662ca5578aeba294ecfc999eb673324da56f702932\n",
      "760565118e9b08133af9564a41190e8ca96420dc0823d50224c4ff534c9196ae\n",
      "760565118e9b08133af9564a41190e8ca96420dc0823d50224c4ff534c9196ae\n"
     ]
    }
   ],
   "execution_count": 53
  },
  {
   "metadata": {
    "ExecuteTime": {
     "end_time": "2024-10-09T00:18:30.782306Z",
     "start_time": "2024-10-09T00:18:30.774668Z"
    }
   },
   "cell_type": "code",
   "source": [
    "k = length\n",
    "x = H_w[idx]\n",
    "beta = [FieldElement(1, Field.main()) for i in range(99)]\n",
    "for i in range(len(v_cp)//2 - 1):\n",
    "    op1 = (v_cp[2*i] + v_cp[2*i + 1]) / FieldElement(2, Field.main())\n",
    "    op2 = (v_cp[2*i] - v_cp[2*i + 1]) / (FieldElement(2, Field.main())*x)\n",
    "    rhs = op1 + beta[i] * op2\n",
    "    assert v_cp[2*(i+1)] == rhs, f\" round {i}, CP(i+1) is {v_cp[2*(i+1)]} while rhs is {rhs}\"\n",
    "    x = x^2\n",
    "print(\"low degree test success!\")"
   ],
   "id": "2c5d49b240971a44",
   "outputs": [
    {
     "name": "stdout",
     "output_type": "stream",
     "text": [
      "low degree test success!\n"
     ]
    }
   ],
   "execution_count": 55
  },
  {
   "metadata": {
    "ExecuteTime": {
     "end_time": "2024-10-09T00:15:51.192325Z",
     "start_time": "2024-10-09T00:15:51.192015Z"
    }
   },
   "cell_type": "code",
   "source": "",
   "id": "d8487a08fa038dcb",
   "outputs": [],
   "execution_count": null
  },
  {
   "metadata": {},
   "cell_type": "code",
   "source": "",
   "id": "c5ec3acf811de8d3",
   "outputs": [],
   "execution_count": null
  },
  {
   "metadata": {},
   "cell_type": "code",
   "source": "",
   "id": "1001937802235431",
   "outputs": [],
   "execution_count": null
  }
 ],
 "metadata": {
  "kernelspec": {
   "display_name": "Python 3",
   "language": "python",
   "name": "python3"
  },
  "language_info": {
   "codemirror_mode": {
    "name": "ipython",
    "version": 2
   },
   "file_extension": ".py",
   "mimetype": "text/x-python",
   "name": "python",
   "nbconvert_exporter": "python",
   "pygments_lexer": "ipython2",
   "version": "2.7.6"
  }
 },
 "nbformat": 4,
 "nbformat_minor": 5
}
