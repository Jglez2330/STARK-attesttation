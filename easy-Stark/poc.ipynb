{
 "cells": [
  {
   "metadata": {
    "ExecuteTime": {
     "end_time": "2024-10-24T02:11:21.025232Z",
     "start_time": "2024-10-24T01:56:43.997412Z"
    }
   },
   "cell_type": "code",
   "source": "",
   "id": "e60b40bf8e3cae46",
   "outputs": [
    {
     "name": "stdout",
     "output_type": "stream",
     "text": [
      "ERROR! Session/line number was not unique in database. History logging moved to new session 383\n"
     ]
    },
    {
     "name": "stderr",
     "output_type": "stream",
     "text": [
      "\n",
      "KeyboardInterrupt\n",
      "\n"
     ]
    }
   ],
   "execution_count": 1
  },
  {
   "metadata": {
    "ExecuteTime": {
     "end_time": "2024-10-24T04:01:45.965789Z",
     "start_time": "2024-10-24T04:01:45.893758Z"
    }
   },
   "cell_type": "code",
   "source": [
    "import angr\n",
    "import re\n",
    "from angr.knowledge_plugins.cfg import CFGNode\n",
    "import matplotlib.pyplot as plt\n",
    "import networkx as nx\n",
    "\n",
    "def adjlist_to_dict(adjlist):\n",
    "    graph = {}\n",
    "    pattern = r'<[^>]+>'  # Matches anything enclosed in <...>\n",
    "\n",
    "    for line in adjlist:\n",
    "        nodes = re.findall(pattern, line)  # Extract all nodes in the line\n",
    "        if nodes:\n",
    "            node = nodes[0]\n",
    "            neighbors = nodes[1:]\n",
    "            graph[node] = neighbors\n",
    "\n",
    "    return graph\n",
    "\n",
    "proj = angr.Project('/Users/jglez2330/Library/Mobile Documents/com~apple~CloudDocs/personal/STARK-attesttation/test/a.out', load_options={'auto_load_libs': False})\n",
    "cfg = proj.analyses.CFGFast(normalize=True, show_progressbar=True, resolve_indirect_jumps=True)\n",
    "\n",
    "#end_state, cfg, path = get_execution_path(proj, cfg) # get example execution path\n",
    "#print(\"Execution path ended because it %s\" % end_state)\n",
    "\n",
    "graph = cfg.graph\n",
    "adj = nx.generate_adjlist(graph)\n",
    "adj = adjlist_to_dict(adj)\n",
    "print(adj) "
   ],
   "id": "f03a5335690ed9fe",
   "outputs": [
    {
     "name": "stderr",
     "output_type": "stream",
     "text": [
      "WARNING  | 2024-10-23 22:01:45,899 | cle.backends.macho.macho | The Mach-O backend is not well-supported. Good luck!\n",
      "WARNING  | 2024-10-23 22:01:45,902 | cle.backends.macho.macho | 14 is not handled yet\n",
      "WARNING  | 2024-10-23 22:01:45,902 | cle.backends.macho.macho | 27 is not handled yet\n",
      "WARNING  | 2024-10-23 22:01:45,903 | cle.backends.macho.macho | 42 is not handled yet\n"
     ]
    },
    {
     "data": {
      "text/plain": [
       "Output()"
      ],
      "application/vnd.jupyter.widget-view+json": {
       "version_major": 2,
       "version_minor": 0,
       "model_id": "6abbef4adc7f4fabaadbb6f44b075615"
      }
     },
     "metadata": {},
     "output_type": "display_data"
    },
    {
     "data": {
      "text/plain": [],
      "text/html": [
       "<pre style=\"white-space:pre;overflow-x:auto;line-height:normal;font-family:Menlo,'DejaVu Sans Mono',consolas,'Courier New',monospace\"></pre>\n"
      ]
     },
     "metadata": {},
     "output_type": "display_data"
    },
    {
     "name": "stdout",
     "output_type": "stream",
     "text": [
      "{'<CFGNode _main [29]>': ['<CFGNode 0x100000f52[6]>', '<CFGNode _main+0x1d [18]>'], '<CFGNode 0x100000f52[6]>': ['<CFGNode UnresolvableJumpTarget [0]>'], '<CFGNode UnresolvableJumpTarget [0]>': [], '<CFGNode _main+0x1d [18]>': ['<CFGNode 0x100000f58[6]>', '<CFGNode _main+0x2f [20]>'], '<CFGNode 0x100000f58[6]>': ['<CFGNode UnresolvableJumpTarget [0]>'], '<CFGNode _main+0x2f [20]>': ['<CFGNode _main+0x43 [17]>', '<CFGNode _main+0x59 [17]>'], '<CFGNode _main+0x43 [17]>': ['<CFGNode 0x100000f52[6]>', '<CFGNode _main+0x54 [5]>'], '<CFGNode _main+0x59 [17]>': ['<CFGNode 0x100000f52[6]>', '<CFGNode _main+0x6a [8]>'], '<CFGNode _main+0x6a [8]>': [], '<CFGNode _main+0x54 [5]>': ['<CFGNode _main+0x6a [8]>'], '<CFGNode 0x100000f6f[9]>': [], '<CFGNode 0x100000fa4[30]>': ['<CFGNode 0x100000fd0[44]>', '<CFGNode 0x100000fc2[11]>'], '<CFGNode 0x100000fd0[44]>': [], '<CFGNode 0x100000fc2[11]>': []}\n"
     ]
    }
   ],
   "execution_count": 5
  },
  {
   "metadata": {
    "ExecuteTime": {
     "end_time": "2024-10-24T04:05:32.059928Z",
     "start_time": "2024-10-24T04:05:32.043229Z"
    }
   },
   "cell_type": "code",
   "source": [
    "import random\n",
    "\n",
    "def all_reachable_paths(graph):\n",
    "    \"\"\"Precompute all reachable nodes for each starting node.\"\"\"\n",
    "    reachable = {}\n",
    "\n",
    "    def dfs(node, visited=None):\n",
    "        if visited is None:\n",
    "            visited = set()\n",
    "        visited.add(node)\n",
    "\n",
    "        for neighbor in graph.get(node, []):\n",
    "            if neighbor not in visited:\n",
    "                dfs(neighbor, visited)\n",
    "        return visited\n",
    "\n",
    "    for node in graph:\n",
    "        reachable[node] = dfs(node)\n",
    "\n",
    "    return reachable\n",
    "\n",
    "def find_path(graph, start, end, path=None):\n",
    "    \"\"\"DFS to find a path from start to end.\"\"\"\n",
    "    if path is None:\n",
    "        path = []\n",
    "\n",
    "    path = path + [start]\n",
    "\n",
    "    if start == end:\n",
    "        return path\n",
    "\n",
    "    if start not in graph:\n",
    "        return None\n",
    "\n",
    "    for neighbor in graph[start]:\n",
    "        if neighbor not in path:\n",
    "            new_path = find_path(graph, neighbor, end, path)\n",
    "            if new_path:\n",
    "                return new_path\n",
    "\n",
    "    return None\n",
    "\n",
    "def random_path_with_reachable(graph):\n",
    "    \"\"\"Select two nodes with a valid path between them.\"\"\"\n",
    "    reachable = all_reachable_paths(graph)\n",
    "\n",
    "    # Collect pairs (start, end) where a path exists\n",
    "    valid_pairs = [\n",
    "        (start, end)\n",
    "        for start, reachable_nodes in reachable.items()\n",
    "        for end in reachable_nodes\n",
    "        if start != end  # Ensure they are distinct\n",
    "    ]\n",
    "\n",
    "    if not valid_pairs:\n",
    "        print(\"No valid paths found in the graph.\")\n",
    "        return None\n",
    "\n",
    "    # Pick a random valid pair\n",
    "    start, end = random.choice(valid_pairs)\n",
    "    print(f\"Finding path from {start} to {end}...\")\n",
    "\n",
    "    # Find and print the path\n",
    "    path = find_path(graph, start, end)\n",
    "\n",
    "    if path:\n",
    "        print(f\"Path found: {path}\")\n",
    "        return path\n",
    "    else:\n",
    "        print(f\"No path found from {start} to {end}.\")\n",
    "        return None\n",
    "path = random_path_with_reachable(adj)\n",
    "path"
   ],
   "id": "52909815760e0b9d",
   "outputs": [
    {
     "name": "stdout",
     "output_type": "stream",
     "text": [
      "Finding path from <CFGNode _main+0x43 [17]> to <CFGNode _main+0x54 [5]>...\n",
      "Path found: ['<CFGNode _main+0x43 [17]>', '<CFGNode _main+0x54 [5]>']\n"
     ]
    },
    {
     "data": {
      "text/plain": [
       "['<CFGNode _main+0x43 [17]>', '<CFGNode _main+0x54 [5]>']"
      ]
     },
     "execution_count": 11,
     "metadata": {},
     "output_type": "execute_result"
    }
   ],
   "execution_count": 11
  },
  {
   "metadata": {
    "ExecuteTime": {
     "end_time": "2024-10-24T04:05:50.846724Z",
     "start_time": "2024-10-24T04:05:50.843008Z"
    }
   },
   "cell_type": "code",
   "source": "from hashlib import sha256",
   "id": "initial_id",
   "outputs": [],
   "execution_count": 13
  },
  {
   "metadata": {
    "ExecuteTime": {
     "end_time": "2024-10-09T14:42:23.780862Z",
     "start_time": "2024-10-09T14:42:23.764490Z"
    }
   },
   "cell_type": "code",
   "source": "\n",
   "id": "3e534f6e8d0ebb30",
   "outputs": [
    {
     "name": "stdout",
     "output_type": "stream",
     "text": [
      "Path found: A -> C -> E -> F\n"
     ]
    },
    {
     "data": {
      "text/plain": [
       "['A', 'C', 'E', 'F']"
      ]
     },
     "execution_count": 55,
     "metadata": {},
     "output_type": "execute_result"
    }
   ],
   "execution_count": 55
  },
  {
   "metadata": {
    "ExecuteTime": {
     "end_time": "2024-10-24T04:56:19.389382Z",
     "start_time": "2024-10-24T04:56:19.382018Z"
    }
   },
   "cell_type": "code",
   "source": [
    "#execution = [sha256(i.encode(\"UTF-8\")) for i in path]\n",
    "import hash\n",
    "#path = [str(i) for i in path]\n",
    "execution = []\n",
    "for i in path:\n",
    "    execution.append(i.encode(\"UTF-8\"))\n",
    "trace = []\n",
    "for i in execution:\n",
    "    print(int.from_bytes(i))\n",
    "    trace.append(int.from_bytes(i))\n",
    "    \n",
    "nonce = 1\n",
    "\n",
    "trace.append(nonce)\n",
    "\n",
    "trace = hash.poseidon_hash(trace)\n",
    "\n",
    "#trace.append(sha256(str(nonce).encode(\"UTF-8\")))\n",
    "#for i in range(len(execution)-1):\n",
    "#    trace.append(sha256(execution[i].digest() + trace[-1].digest()))\n",
    "#trace = [int.from_bytes(i.digest()) for i in trace]\n",
    "\n",
    "trace"
   ],
   "id": "27542b3216a93764",
   "outputs": [
    {
     "name": "stdout",
     "output_type": "stream",
     "text": [
      "378275670689887191647802758758334741584922576964119267073342\n",
      "1477639338632371842374229526399745084316104098840579497278\n"
     ]
    },
    {
     "data": {
      "text/plain": [
       "[6048755700949961189669124726068799266882965611467975912202410078793260939162,\n",
       " 520659857297231285359286884718005448430239945804127534760094834127155511309,\n",
       " 11424006874823228227490993830540773901986650769882319476818743576143762898379]"
      ]
     },
     "execution_count": 61,
     "metadata": {},
     "output_type": "execute_result"
    }
   ],
   "execution_count": 61
  },
  {
   "metadata": {
    "ExecuteTime": {
     "end_time": "2024-10-24T04:56:37.795666Z",
     "start_time": "2024-10-24T04:56:37.790057Z"
    }
   },
   "cell_type": "code",
   "source": [
    "import math\n",
    "def next_power_of_2(n):\n",
    "    if n < 1:\n",
    "        return 1\n",
    "    return 2 ** math.ceil(math.log2(n))"
   ],
   "id": "7875db97469de698",
   "outputs": [],
   "execution_count": 62
  },
  {
   "metadata": {
    "ExecuteTime": {
     "end_time": "2024-10-24T04:56:38.349631Z",
     "start_time": "2024-10-24T04:56:38.344937Z"
    }
   },
   "cell_type": "code",
   "source": [
    "from Field import  *\n",
    "from Polynomial import  *\n",
    "exp_factor = 8\n",
    "root_pow = next_power_of_2(len(trace))\n",
    "field = Field.main()\n",
    "g = field.primitive_nth_root(root_pow)\n",
    "h = field.primitive_nth_root(root_pow*exp_factor)\n",
    "\n",
    "G = [g^i for i in range(len(trace))]\n",
    "H = [h^i for i in range(root_pow*exp_factor)]\n"
   ],
   "id": "6a0c8528afac85e0",
   "outputs": [],
   "execution_count": 63
  },
  {
   "metadata": {
    "ExecuteTime": {
     "end_time": "2024-10-24T04:56:38.892590Z",
     "start_time": "2024-10-24T04:56:38.889320Z"
    }
   },
   "cell_type": "code",
   "source": "trace = [FieldElement(i, Field.main()) for i in trace]",
   "id": "c09c99a30db5e4db",
   "outputs": [],
   "execution_count": 64
  },
  {
   "metadata": {
    "ExecuteTime": {
     "end_time": "2024-10-24T04:56:39.402700Z",
     "start_time": "2024-10-24T04:56:39.397266Z"
    }
   },
   "cell_type": "code",
   "source": [
    "fx = Polynomial.interpolate_domain(G, trace)\n",
    "fx.degree()"
   ],
   "id": "63cf476704e96e6a",
   "outputs": [
    {
     "data": {
      "text/plain": [
       "2"
      ]
     },
     "execution_count": 65,
     "metadata": {},
     "output_type": "execute_result"
    }
   ],
   "execution_count": 65
  },
  {
   "metadata": {
    "ExecuteTime": {
     "end_time": "2024-10-24T04:56:40.002368Z",
     "start_time": "2024-10-24T04:56:39.997393Z"
    }
   },
   "cell_type": "code",
   "source": [
    "random_w = FieldElement(4, Field.main())\n",
    "H_w = [h*random_w for h in H]\n",
    "fx_exp_eval = fx.evaluate_domain(H_w)\n",
    "H_w\n"
   ],
   "id": "bd5f6261929cd3c0",
   "outputs": [
    {
     "data": {
      "text/plain": [
       "[<Field.FieldElement at 0x1185c2330>,\n",
       " <Field.FieldElement at 0x1185c1100>,\n",
       " <Field.FieldElement at 0x1185c3b60>,\n",
       " <Field.FieldElement at 0x1185c3b30>,\n",
       " <Field.FieldElement at 0x1185c0b90>,\n",
       " <Field.FieldElement at 0x1185c0530>,\n",
       " <Field.FieldElement at 0x1185c2ab0>,\n",
       " <Field.FieldElement at 0x1185c1e80>,\n",
       " <Field.FieldElement at 0x1185c0800>,\n",
       " <Field.FieldElement at 0x1185c0740>,\n",
       " <Field.FieldElement at 0x1185c30b0>,\n",
       " <Field.FieldElement at 0x1185c0440>,\n",
       " <Field.FieldElement at 0x1185c3440>,\n",
       " <Field.FieldElement at 0x1185c0350>,\n",
       " <Field.FieldElement at 0x1185c18e0>,\n",
       " <Field.FieldElement at 0x1185c07d0>,\n",
       " <Field.FieldElement at 0x1185c09b0>,\n",
       " <Field.FieldElement at 0x1185c38f0>,\n",
       " <Field.FieldElement at 0x1185c1e20>,\n",
       " <Field.FieldElement at 0x1185c3e30>,\n",
       " <Field.FieldElement at 0x1185c36e0>,\n",
       " <Field.FieldElement at 0x1185c1af0>,\n",
       " <Field.FieldElement at 0x1185c05c0>,\n",
       " <Field.FieldElement at 0x1185c1f10>,\n",
       " <Field.FieldElement at 0x1185c21e0>,\n",
       " <Field.FieldElement at 0x1185c3f20>,\n",
       " <Field.FieldElement at 0x1185c1730>,\n",
       " <Field.FieldElement at 0x1185c1160>,\n",
       " <Field.FieldElement at 0x1185c0140>,\n",
       " <Field.FieldElement at 0x1185c1610>,\n",
       " <Field.FieldElement at 0x1185c2180>,\n",
       " <Field.FieldElement at 0x1185c1040>]"
      ]
     },
     "execution_count": 66,
     "metadata": {},
     "output_type": "execute_result"
    }
   ],
   "execution_count": 66
  },
  {
   "metadata": {
    "ExecuteTime": {
     "end_time": "2024-10-24T04:56:40.785617Z",
     "start_time": "2024-10-24T04:56:40.779462Z"
    }
   },
   "cell_type": "code",
   "source": [
    "from Merkle import *\n",
    "print(len(fx_exp_eval))\n",
    "fx_root =  MerkleTree(fx_exp_eval)\n",
    "fx_root"
   ],
   "id": "8b1b3825df72f1c7",
   "outputs": [
    {
     "name": "stdout",
     "output_type": "stream",
     "text": [
      "32\n"
     ]
    },
    {
     "data": {
      "text/plain": [
       "<Merkle.MerkleTree at 0x1171a3d10>"
      ]
     },
     "execution_count": 67,
     "metadata": {},
     "output_type": "execute_result"
    }
   ],
   "execution_count": 67
  },
  {
   "metadata": {},
   "cell_type": "markdown",
   "source": [
    "# Contrains\n",
    "3 constrains\n",
    "final and initial value must be the same\n",
    "and intermidiate value must be the following formula:\n",
    "$a_n = a_{n-1} + m$\n",
    "where m is the slope of the line"
   ],
   "id": "224ca8434650914b"
  },
  {
   "metadata": {
    "ExecuteTime": {
     "end_time": "2024-10-24T05:25:12.026272Z",
     "start_time": "2024-10-24T05:25:12.018136Z"
    }
   },
   "cell_type": "code",
   "source": [
    "nonce_hash = FieldElement(6048755700949961189669124726068799266882965611467975912202410078793260939162, Field.main())\n",
    "p0_num = fx - Polynomial([nonce_hash])\n",
    "x = Polynomial([field.zero(), field.one()])\n",
    "p0_dem = x - Polynomial([G[0]])\n",
    "p0 = p0_num/p0_dem\n",
    "p0"
   ],
   "id": "ced531a0428b09c1",
   "outputs": [
    {
     "data": {
      "text/plain": [
       "<Polynomial.Polynomial at 0x117648680>"
      ]
     },
     "execution_count": 71,
     "metadata": {},
     "output_type": "execute_result"
    }
   ],
   "execution_count": 71
  },
  {
   "metadata": {
    "ExecuteTime": {
     "end_time": "2024-10-24T05:25:13.051472Z",
     "start_time": "2024-10-24T05:25:13.045293Z"
    }
   },
   "cell_type": "code",
   "source": [
    "p1_num = fx - Polynomial([FieldElement(11424006874823228227490993830540773901986650769882319476818743576143762898379, Field.main())])\n",
    "x = Polynomial([field.zero(), field.one()])\n",
    "p1_dem = x - Polynomial([g^(len(trace)-1)])\n",
    "p1 = p1_num/p1_dem\n",
    "p1"
   ],
   "id": "b703d2837d989173",
   "outputs": [
    {
     "data": {
      "text/plain": [
       "<Polynomial.Polynomial at 0x118513b30>"
      ]
     },
     "execution_count": 72,
     "metadata": {},
     "output_type": "execute_result"
    }
   ],
   "execution_count": 72
  },
  {
   "metadata": {
    "ExecuteTime": {
     "end_time": "2024-10-24T05:25:13.838073Z",
     "start_time": "2024-10-24T05:25:13.835147Z"
    }
   },
   "cell_type": "code",
   "source": "",
   "id": "f056577e34756963",
   "outputs": [],
   "execution_count": 72
  },
  {
   "metadata": {
    "ExecuteTime": {
     "end_time": "2024-10-24T05:25:14.370074Z",
     "start_time": "2024-10-24T05:25:14.364289Z"
    }
   },
   "cell_type": "code",
   "source": [
    "cp = p0 + p1\n",
    "cp_eval = cp.evaluate_domain(H_w)\n",
    "for i in cp_eval:\n",
    "    print(i.value)\n",
    "mk = MerkleTree(cp_eval)"
   ],
   "id": "eaaf97d058218c09",
   "outputs": [
    {
     "name": "stdout",
     "output_type": "stream",
     "text": [
      "261016264982363350970505146787942169964\n",
      "124887616140903457227299320574249172113\n",
      "101377520561277043676503658507476880677\n",
      "248465489985511146169841300882821702590\n",
      "63402008705076711447106503958250635527\n",
      "17559599429412069765206484911335693036\n",
      "14132089957680393538024890239965026083\n",
      "243811054572534080746458876914812367764\n",
      "18998597405001675148735797473254087310\n",
      "260161884108750835672791563211688014988\n",
      "59231302124177282705185188869766394571\n",
      "82288962122318329443456178006866501085\n",
      "217341759307266530891002427438562842892\n",
      "67329986743641643373422955688383825636\n",
      "87002396261612991295814952879908774796\n",
      "173224724736674793995895023803183558246\n",
      "251403010374058040999303543453680027126\n",
      "117033762073287554606584632900322903760\n",
      "140543857652913968157380294967095195196\n",
      "263953785370910245799967389358800494500\n",
      "178519369509114300386777449516321440346\n",
      "224361778784778942068677468563236382837\n",
      "227789288256510618295859063234607049790\n",
      "268608220783887311223349813326809829326\n",
      "222922780809189336685148156001317988563\n",
      "252257391247670556297017127029934182102\n",
      "182690076090013729128698764604805681302\n",
      "159632416091872682390427775467705574788\n",
      "24579618906924480942881526036009232981\n",
      "174591391470549368460460997786188250237\n",
      "154918981952578020538069000594663301077\n",
      "68696653477516217837988929671388517627\n"
     ]
    }
   ],
   "execution_count": 73
  },
  {
   "metadata": {},
   "cell_type": "markdown",
   "source": "# FRI",
   "id": "671f7b534b572fe3"
  },
  {
   "metadata": {
    "ExecuteTime": {
     "end_time": "2024-10-24T05:25:15.852287Z",
     "start_time": "2024-10-24T05:25:15.846389Z"
    }
   },
   "cell_type": "code",
   "source": [
    "from FRI import *\n",
    "\n",
    "fri = Fri(H_w)\n",
    "\n",
    "fri_polys, fri_domains, fri_layers, fri_merkles = fri.commit(cp, H_w, cp_eval, mk, None)"
   ],
   "id": "8d82a3bafb3abec4",
   "outputs": [
    {
     "name": "stdout",
     "output_type": "stream",
     "text": [
      "next_len fri layer: 16\n"
     ]
    }
   ],
   "execution_count": 74
  },
  {
   "metadata": {
    "ExecuteTime": {
     "end_time": "2024-10-24T05:25:16.553367Z",
     "start_time": "2024-10-24T05:25:16.548111Z"
    }
   },
   "cell_type": "code",
   "source": [
    "#fri.decommit(1, fri_polys, fri_domains, fri_layers, fri_merkles)\n",
    "[len(i) for i in fri_layers]"
   ],
   "id": "8316c06828a2cbc7",
   "outputs": [
    {
     "data": {
      "text/plain": [
       "[32, 16]"
      ]
     },
     "execution_count": 75,
     "metadata": {},
     "output_type": "execute_result"
    }
   ],
   "execution_count": 75
  },
  {
   "metadata": {},
   "cell_type": "markdown",
   "source": "",
   "id": "5d5a40cb5c57f0e1"
  },
  {
   "metadata": {},
   "cell_type": "markdown",
   "source": [
    "# Verify\n",
    "\n",
    "\n"
   ],
   "id": "a6f2ca1ccdb2e6ed"
  },
  {
   "metadata": {
    "ExecuteTime": {
     "end_time": "2024-10-24T05:25:19.315384Z",
     "start_time": "2024-10-24T05:25:19.312300Z"
    }
   },
   "cell_type": "code",
   "source": "mt_root = fx_root ",
   "id": "1ace0a22bfd005ac",
   "outputs": [],
   "execution_count": 76
  },
  {
   "metadata": {
    "ExecuteTime": {
     "end_time": "2024-10-24T05:25:20.287370Z",
     "start_time": "2024-10-24T05:25:20.282649Z"
    }
   },
   "cell_type": "code",
   "source": [
    "# 3 cp so 3 alphas\n",
    "alpha0, alpha1,alpha2 = FieldElement(1, Field.main()), FieldElement(1, Field.main()), FieldElement(1, Field.main())"
   ],
   "id": "4027955dacb03d58",
   "outputs": [],
   "execution_count": 77
  },
  {
   "metadata": {
    "ExecuteTime": {
     "end_time": "2024-10-24T05:25:21.113549Z",
     "start_time": "2024-10-24T05:25:21.109039Z"
    }
   },
   "cell_type": "code",
   "source": [
    "# CP merkle root\n",
    "cp_root = mk"
   ],
   "id": "e4a9d6ae33ee850e",
   "outputs": [],
   "execution_count": 78
  },
  {
   "metadata": {
    "ExecuteTime": {
     "end_time": "2024-10-24T05:25:21.577304Z",
     "start_time": "2024-10-24T05:25:21.573129Z"
    }
   },
   "cell_type": "code",
   "source": "idx = 1",
   "id": "acf7e8c02f315fdd",
   "outputs": [],
   "execution_count": 79
  },
  {
   "metadata": {
    "ExecuteTime": {
     "end_time": "2024-10-24T05:25:22.137817Z",
     "start_time": "2024-10-24T05:25:22.134301Z"
    }
   },
   "cell_type": "code",
   "source": "proof_f = fri.decommit_on_query(idx, fx_exp_eval, mt_root)",
   "id": "24afd8004b8cd26",
   "outputs": [],
   "execution_count": 80
  },
  {
   "metadata": {
    "ExecuteTime": {
     "end_time": "2024-10-24T05:25:22.683919Z",
     "start_time": "2024-10-24T05:25:22.679898Z"
    }
   },
   "cell_type": "code",
   "source": "proof_cp = fri.decommit_on_fri(idx, fri_polys, fri_domains, fri_layers, fri_merkles)\n",
   "id": "868c3823496c95c5",
   "outputs": [],
   "execution_count": 81
  },
  {
   "metadata": {
    "ExecuteTime": {
     "end_time": "2024-10-24T05:25:23.283648Z",
     "start_time": "2024-10-24T05:25:23.279964Z"
    }
   },
   "cell_type": "code",
   "source": [
    "# Basic check\n",
    "assert len(proof_cp) % 2\n",
    "v_last_one = proof_cp.pop()"
   ],
   "id": "f0099216c1f532b9",
   "outputs": [],
   "execution_count": 82
  },
  {
   "metadata": {
    "ExecuteTime": {
     "end_time": "2024-10-24T05:25:24.004480Z",
     "start_time": "2024-10-24T05:25:24.000865Z"
    }
   },
   "cell_type": "code",
   "source": [
    "last_one = fri_polys[-1].coefficients[0] # poly 0 shall be constant\n",
    "\n",
    "v_last_one\n",
    "assert v_last_one == last_one\n"
   ],
   "id": "f7cd857a5f36b4e0",
   "outputs": [],
   "execution_count": 83
  },
  {
   "metadata": {
    "ExecuteTime": {
     "end_time": "2024-10-24T05:25:24.948662Z",
     "start_time": "2024-10-24T05:25:24.944343Z"
    }
   },
   "cell_type": "code",
   "source": "from Merkle import verify_decommitment",
   "id": "a7e62a5896e4c5f2",
   "outputs": [],
   "execution_count": 84
  },
  {
   "metadata": {
    "ExecuteTime": {
     "end_time": "2024-10-24T05:25:28.896618Z",
     "start_time": "2024-10-24T05:25:28.888549Z"
    }
   },
   "cell_type": "code",
   "source": [
    "# Check polynomial constraint\n",
    "# First check evaluation of polynomial f is honest\n",
    "v_f_eval = proof_f[0::2]\n",
    "v_f_auth = proof_f[1::2]\n",
    "assert len(v_f_eval) == len(v_f_auth)\n",
    "for i in range(len(v_f_eval)):\n",
    "    assert verify_decommitment(idx + 8 * i, v_f_eval[i], v_f_auth[i], mt_root.root ), f'in iter {i}, go wrong'\n",
    "# Then check whether they could satify the recursive condition\n",
    "print(proof_cp)\n",
    "v_cp0 = proof_cp[:2]\n",
    "length = len(fri_layers[0]) # 8192 shoud be a prior knowledge\n",
    "assert verify_decommitment(idx % length, v_cp0[0], v_cp0[1], cp_root.root)"
   ],
   "id": "1f3068083372a696",
   "outputs": [
    {
     "name": "stdout",
     "output_type": "stream",
     "text": [
      "48585b4b7accd35d6a6b1ec3c0bfba98b8c08ef1d0615227d5c54cfbc74206f5\n",
      "48585b4b7accd35d6a6b1ec3c0bfba98b8c08ef1d0615227d5c54cfbc74206f5\n",
      "[<Field.FieldElement object at 0x1185ce720>, ['cce6f855a7851c1717d212a81d1f14555a34ce6e6c79e45c6ff0b4a865e357de', 'd632b1e33e7f19a1c1e78b98d393d1efb2bf5bd3cdcb61198042a1e75850d774', '7f133e06c25584d144df98d21ab83fa91ba0e3c9ec4176c5b0eb95f65175e09c', '55dd59e2f04d059d1d4f8f07dd33341e16527e8198f99841569026ca5b4baf9f', '84df777bdfb59104a329ad265a88361adadd41bd188e5b8a0d099419857bf8a6'], <Field.FieldElement object at 0x11849ecc0>, ['5d84c435b47c75f5e777c088a7a5b7bd23b419bb92012fbc9ccf9939d3ca956f', 'a17e29909a29ee4ce896e6d9404ddc2a73b015b0a4feedb8a8148ae4f67eef12', '18747a698d4449bdd96626d37eb9b4a72e3d4589cdb92a1dec79d9c9128b7ee4', 'ab9e0312215e68d9f391dd0a119b7ced887fcf0acb55ba5ecdbcfecc97849ab3', 'fbde7662f6a595f4e884c8f856dd1ec8e0b2122727f2bbf6e47fd9059d41020d']]\n",
      "0ea117f058b747c5d23ce2ae066e1089fdbc14f9664faaa709731b8bec3fa68c\n"
     ]
    }
   ],
   "execution_count": 85
  },
  {
   "metadata": {
    "ExecuteTime": {
     "end_time": "2024-10-24T05:26:06.119067Z",
     "start_time": "2024-10-24T05:26:06.112667Z"
    }
   },
   "cell_type": "code",
   "source": [
    "# Check the polynomial constraint\n",
    "fx = v_f_eval[0]\n",
    "fgx = v_f_eval[1]\n",
    "x = H_w[idx]\n",
    "p0 = (fx - nonce_hash) / (x - G[0])\n",
    "p1 = (fx - FieldElement(11424006874823228227490993830540773901986650769882319476818743576143762898379, Field.main()))/ (x - G[len(trace)-1])\n",
    "\n",
    "#p2 = p2_num/p2_dem\n",
    "assert v_cp0[0] == (p0 + p1)\n",
    "print(\"poly constraint success!\")"
   ],
   "id": "2b52aaf88d0e14b",
   "outputs": [
    {
     "name": "stdout",
     "output_type": "stream",
     "text": [
      "poly constraint success!\n"
     ]
    }
   ],
   "execution_count": 87
  },
  {
   "metadata": {
    "ExecuteTime": {
     "end_time": "2024-10-24T05:26:07.304198Z",
     "start_time": "2024-10-24T05:26:07.299246Z"
    }
   },
   "cell_type": "code",
   "source": [
    "# Check low degree\n",
    "v_cp = proof_cp[::2]\n",
    "v_auth = proof_cp[1::2]\n",
    "assert len(v_cp) == len(v_auth)\n",
    "assert len(v_cp) % 2 == 0\n",
    "k = length\n",
    "for i in range(len(v_cp)//2 -1):\n",
    "    iter_idx = idx % k\n",
    "    iter_sib_idx = (idx + k // 2) % k\n",
    "    assert verify_decommitment(iter_idx, v_cp[2*i], v_auth[2*i], fri_merkles[i].root)\n",
    "    assert verify_decommitment(iter_sib_idx, v_cp[(2*i) + 1], v_auth[(2*i)+1], fri_merkles[i].root)\n",
    "    k = k // 2"
   ],
   "id": "fe35d162eec12aeb",
   "outputs": [],
   "execution_count": 88
  },
  {
   "metadata": {
    "ExecuteTime": {
     "end_time": "2024-10-24T05:26:08.017243Z",
     "start_time": "2024-10-24T05:26:08.010690Z"
    }
   },
   "cell_type": "code",
   "source": [
    "k = length\n",
    "x = H_w[idx]\n",
    "beta = [FieldElement(1, Field.main()) for i in range(99)]\n",
    "for i in range(len(v_cp)//2 - 1):\n",
    "    op1 = (v_cp[2*i] + v_cp[2*i + 1]) / FieldElement(2, Field.main())\n",
    "    op2 = (v_cp[2*i] - v_cp[2*i + 1]) / (FieldElement(2, Field.main())*x)\n",
    "    rhs = op1 + beta[i] * op2\n",
    "    assert v_cp[2*(i+1)] == rhs, f\" round {i}, CP(i+1) is {v_cp[2*(i+1)]} while rhs is {rhs}\"\n",
    "    x = x^2\n",
    "print(\"low degree test success!\")"
   ],
   "id": "875a12459125210d",
   "outputs": [
    {
     "name": "stdout",
     "output_type": "stream",
     "text": [
      "low degree test success!\n"
     ]
    }
   ],
   "execution_count": 89
  },
  {
   "metadata": {},
   "cell_type": "code",
   "outputs": [],
   "execution_count": null,
   "source": "",
   "id": "283cf2f924cb26bb"
  }
 ],
 "metadata": {
  "kernelspec": {
   "display_name": "Python 3 (ipykernel)",
   "language": "python",
   "name": "python3"
  },
  "language_info": {
   "codemirror_mode": {
    "name": "ipython",
    "version": 2
   },
   "file_extension": ".py",
   "mimetype": "text/x-python",
   "name": "python",
   "nbconvert_exporter": "python",
   "pygments_lexer": "ipython2",
   "version": "2.7.6"
  }
 },
 "nbformat": 4,
 "nbformat_minor": 5
}
