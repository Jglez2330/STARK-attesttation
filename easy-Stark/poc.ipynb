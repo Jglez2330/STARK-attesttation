{
 "cells": [
  {
   "metadata": {
    "ExecuteTime": {
     "end_time": "2024-10-09T14:42:22.646571Z",
     "start_time": "2024-10-09T14:42:22.584253Z"
    }
   },
   "cell_type": "code",
   "source": [
    "import angr\n",
    "p = angr.Project('/Users/jglez2330/Library/Mobile Documents/com~apple~CloudDocs/personal/STARK-attesttation/test/a.out', load_options={'auto_load_libs': False})\n",
    "\n",
    "cfg = p.analyses.CFGFast()\n",
    "\n",
    "print(\"This is the graph:\", cfg.graph)\n",
    "print(\"It has %d nodes and %d edges\" % (len(cfg.graph.nodes()), len(cfg.graph.edges())))\n",
    "\n",
    "entry_node = cfg.get_any_node(p.entry)\n",
    "\n",
    "print(\"There were %d contexts for the entry block\" % len(cfg.get_all_nodes(p.entry)))\n",
    "print(\"Predecessors of the entry point:\", entry_node.predecessors)\n",
    "print(\"Successors of the entry point:\", entry_node.successors)\n",
    "print(\"Successors (and type of jump) of the entry point:\", [ jumpkind + \" to \" + str(node.addr) for node,jumpkind in cfg.get_successors_and_jumpkind(entry_node) ])"
   ],
   "id": "e60b40bf8e3cae46",
   "outputs": [
    {
     "name": "stderr",
     "output_type": "stream",
     "text": [
      "WARNING  | 2024-10-09 08:42:22,592 | cle.backends.macho.macho | The Mach-O backend is not well-supported. Good luck!\n",
      "WARNING  | 2024-10-09 08:42:22,597 | cle.backends.macho.macho | 14 is not handled yet\n",
      "WARNING  | 2024-10-09 08:42:22,598 | cle.backends.macho.macho | 27 is not handled yet\n",
      "WARNING  | 2024-10-09 08:42:22,599 | cle.backends.macho.macho | 42 is not handled yet\n"
     ]
    },
    {
     "name": "stdout",
     "output_type": "stream",
     "text": [
      "This is the graph: DiGraph with 14 nodes and 15 edges\n",
      "It has 14 nodes and 15 edges\n",
      "There were 1 contexts for the entry block\n",
      "Predecessors of the entry point: []\n",
      "Successors of the entry point: [<CFGNode 0x100000f52[6]>]\n",
      "Successors (and type of jump) of the entry point: ['Ijk_Call to 4294971218']\n"
     ]
    }
   ],
   "execution_count": 53
  },
  {
   "metadata": {
    "ExecuteTime": {
     "end_time": "2024-10-09T14:42:23.497706Z",
     "start_time": "2024-10-09T14:42:23.487065Z"
    }
   },
   "cell_type": "code",
   "source": "from hashlib import sha256",
   "id": "initial_id",
   "outputs": [],
   "execution_count": 54
  },
  {
   "metadata": {
    "ExecuteTime": {
     "end_time": "2024-10-09T14:42:23.780862Z",
     "start_time": "2024-10-09T14:42:23.764490Z"
    }
   },
   "cell_type": "code",
   "source": [
    "# Define the graph as an adjacency list\n",
    "graph = {\n",
    "    'A': ['B', 'C'],\n",
    "    'B': ['D'],\n",
    "    'C': ['E'],\n",
    "    'D': [],\n",
    "    'E': ['F'],\n",
    "    'F': []\n",
    "}\n",
    "\n",
    "# DFS function to find the path from start to end\n",
    "def dfs(graph, start, goal, path=None):\n",
    "    if path is None:\n",
    "        path = []\n",
    "\n",
    "    path = path + [start]\n",
    "\n",
    "    if start == goal:\n",
    "        return path\n",
    "\n",
    "    if start not in graph:\n",
    "        return None\n",
    "\n",
    "    for node in graph[start]:\n",
    "        if node not in path:\n",
    "            new_path = dfs(graph, node, goal, path)\n",
    "            if new_path:\n",
    "                return new_path\n",
    "\n",
    "    return None\n",
    "\n",
    "# Function to print the path from one node to another\n",
    "def find_and_print_path(graph, start, goal):\n",
    "    path = dfs(graph, start, goal)\n",
    "    if path:\n",
    "        print(\"Path found:\", \" -> \".join(path))\n",
    "        return path\n",
    "    else:\n",
    "        print(f\"No path found from {start} to {goal}\")\n",
    "        return []\n",
    "\n",
    "# Example: find a path from node 'A' to node 'F'\n",
    "find_and_print_path(graph, 'A', 'F')\n"
   ],
   "id": "3e534f6e8d0ebb30",
   "outputs": [
    {
     "name": "stdout",
     "output_type": "stream",
     "text": [
      "Path found: A -> C -> E -> F\n"
     ]
    },
    {
     "data": {
      "text/plain": [
       "['A', 'C', 'E', 'F']"
      ]
     },
     "execution_count": 55,
     "metadata": {},
     "output_type": "execute_result"
    }
   ],
   "execution_count": 55
  },
  {
   "metadata": {
    "ExecuteTime": {
     "end_time": "2024-10-09T14:42:24.339082Z",
     "start_time": "2024-10-09T14:42:24.328288Z"
    }
   },
   "cell_type": "code",
   "source": [
    "path = find_and_print_path(graph, 'A', 'F')\n",
    "path = ['A', 'C','E', 'F']\n",
    "execution = [sha256(i.encode(\"UTF-8\")) for i in path]\n",
    "\n",
    "trace = []\n",
    "nonce = 1\n",
    "trace.append(sha256(str(nonce).encode(\"UTF-8\")))\n",
    "for i in range(len(execution)-1):\n",
    "    trace.append(sha256(execution[i].digest() + trace[-1].digest()))\n",
    "trace = [int.from_bytes(i.digest()) for i in trace]\n",
    "trace"
   ],
   "id": "27542b3216a93764",
   "outputs": [
    {
     "name": "stdout",
     "output_type": "stream",
     "text": [
      "Path found: A -> C -> E -> F\n"
     ]
    },
    {
     "data": {
      "text/plain": [
       "[48635463943209834798109814161294753926839975257569795305637098542720658922315,\n",
       " 2542819216453761409254500233514721456325805441121836427145960347314070197973,\n",
       " 3066898672772311992480761421518869773108402208945700242704374602155849533315,\n",
       " 18387883697599163565981562079465157039772126126815288883976149418505564317327]"
      ]
     },
     "execution_count": 56,
     "metadata": {},
     "output_type": "execute_result"
    }
   ],
   "execution_count": 56
  },
  {
   "metadata": {
    "ExecuteTime": {
     "end_time": "2024-10-09T14:42:24.632018Z",
     "start_time": "2024-10-09T14:42:24.628359Z"
    }
   },
   "cell_type": "code",
   "source": [
    "import math\n",
    "def next_power_of_2(n):\n",
    "    if n < 1:\n",
    "        return 1\n",
    "    return 2 ** math.ceil(math.log2(n))"
   ],
   "id": "7875db97469de698",
   "outputs": [],
   "execution_count": 57
  },
  {
   "metadata": {
    "ExecuteTime": {
     "end_time": "2024-10-09T14:42:24.962930Z",
     "start_time": "2024-10-09T14:42:24.954827Z"
    }
   },
   "cell_type": "code",
   "source": [
    "from Field import  *\n",
    "from Polynomial import  *\n",
    "exp_factor = 8\n",
    "root_pow = next_power_of_2(len(trace))\n",
    "field = Field.main()\n",
    "g = field.primitive_nth_root(root_pow)\n",
    "h = field.primitive_nth_root(root_pow*exp_factor)\n",
    "\n",
    "G = [g^i for i in range(len(trace))]\n",
    "H = [h^i for i in range(root_pow*exp_factor)]\n"
   ],
   "id": "6a0c8528afac85e0",
   "outputs": [],
   "execution_count": 58
  },
  {
   "metadata": {
    "ExecuteTime": {
     "end_time": "2024-10-09T14:42:25.248543Z",
     "start_time": "2024-10-09T14:42:25.244700Z"
    }
   },
   "cell_type": "code",
   "source": "trace = [FieldElement(i, Field.main()) for i in trace]",
   "id": "c09c99a30db5e4db",
   "outputs": [],
   "execution_count": 59
  },
  {
   "metadata": {
    "ExecuteTime": {
     "end_time": "2024-10-09T14:42:25.587265Z",
     "start_time": "2024-10-09T14:42:25.577412Z"
    }
   },
   "cell_type": "code",
   "source": [
    "fx = Polynomial.interpolate_domain(G, trace)\n",
    "fx"
   ],
   "id": "63cf476704e96e6a",
   "outputs": [
    {
     "data": {
      "text/plain": [
       "<Polynomial.Polynomial at 0x11285ac60>"
      ]
     },
     "execution_count": 60,
     "metadata": {},
     "output_type": "execute_result"
    }
   ],
   "execution_count": 60
  },
  {
   "metadata": {
    "ExecuteTime": {
     "end_time": "2024-10-09T14:42:25.797679Z",
     "start_time": "2024-10-09T14:42:25.792310Z"
    }
   },
   "cell_type": "code",
   "source": [
    "random_w = FieldElement(4, Field.main())\n",
    "H_w = [h*random_w for h in H]\n",
    "fx_exp_eval = fx.evaluate_domain(H_w)\n"
   ],
   "id": "bd5f6261929cd3c0",
   "outputs": [],
   "execution_count": 61
  },
  {
   "metadata": {
    "ExecuteTime": {
     "end_time": "2024-10-09T14:42:26.040061Z",
     "start_time": "2024-10-09T14:42:26.029859Z"
    }
   },
   "cell_type": "code",
   "source": [
    "from Merkle import *\n",
    "print(len(fx_exp_eval))\n",
    "fx_root =  MerkleTree(fx_exp_eval)\n",
    "fx_root"
   ],
   "id": "8b1b3825df72f1c7",
   "outputs": [
    {
     "name": "stdout",
     "output_type": "stream",
     "text": [
      "32\n"
     ]
    },
    {
     "data": {
      "text/plain": [
       "<Merkle.MerkleTree at 0x11286c770>"
      ]
     },
     "execution_count": 62,
     "metadata": {},
     "output_type": "execute_result"
    }
   ],
   "execution_count": 62
  },
  {
   "metadata": {},
   "cell_type": "markdown",
   "source": [
    "# Contrains\n",
    "3 constrains\n",
    "final and initial value must be the same\n",
    "and intermidiate value must be the following formula:\n",
    "$a_n = a_{n-1} + m$\n",
    "where m is the slope of the line"
   ],
   "id": "224ca8434650914b"
  },
  {
   "metadata": {
    "ExecuteTime": {
     "end_time": "2024-10-09T14:42:26.365294Z",
     "start_time": "2024-10-09T14:42:26.354434Z"
    }
   },
   "cell_type": "code",
   "source": [
    "nonce_hash = FieldElement(int.from_bytes(sha256(str(nonce).encode(\"UTF-8\")).digest()), Field.main())\n",
    "p0_num = fx - Polynomial([nonce_hash])\n",
    "x = Polynomial([field.zero(), field.one()])\n",
    "p0_dem = x - Polynomial([G[0]])\n",
    "p0 = p0_num/p0_dem\n",
    "p0"
   ],
   "id": "ced531a0428b09c1",
   "outputs": [
    {
     "data": {
      "text/plain": [
       "<Polynomial.Polynomial at 0x110d75b20>"
      ]
     },
     "execution_count": 63,
     "metadata": {},
     "output_type": "execute_result"
    }
   ],
   "execution_count": 63
  },
  {
   "metadata": {
    "ExecuteTime": {
     "end_time": "2024-10-09T14:42:26.614372Z",
     "start_time": "2024-10-09T14:42:26.601380Z"
    }
   },
   "cell_type": "code",
   "source": [
    "p1_num = fx - Polynomial([FieldElement(18387883697599163565981562079465157039772126126815288883976149418505564317327, Field.main())])\n",
    "x = Polynomial([field.zero(), field.one()])\n",
    "p1_dem = x - Polynomial([g^(len(trace)-1)])\n",
    "p1 = p1_num/p1_dem\n",
    "p1"
   ],
   "id": "b703d2837d989173",
   "outputs": [
    {
     "data": {
      "text/plain": [
       "<Polynomial.Polynomial at 0x110d4f500>"
      ]
     },
     "execution_count": 64,
     "metadata": {},
     "output_type": "execute_result"
    }
   ],
   "execution_count": 64
  },
  {
   "metadata": {
    "ExecuteTime": {
     "end_time": "2024-10-09T14:42:26.764174Z",
     "start_time": "2024-10-09T14:42:26.761689Z"
    }
   },
   "cell_type": "code",
   "source": "",
   "id": "f056577e34756963",
   "outputs": [],
   "execution_count": 64
  },
  {
   "metadata": {
    "ExecuteTime": {
     "end_time": "2024-10-09T14:42:26.970947Z",
     "start_time": "2024-10-09T14:42:26.962342Z"
    }
   },
   "cell_type": "code",
   "source": [
    "cp = p0 + p1\n",
    "cp_eval = cp.evaluate_domain(H_w)\n",
    "for i in cp_eval:\n",
    "    print(i.value)\n",
    "mk = MerkleTree(cp_eval)"
   ],
   "id": "eaaf97d058218c09",
   "outputs": [
    {
     "name": "stdout",
     "output_type": "stream",
     "text": [
      "57823405364060886188555359041969056157\n",
      "140849091095845268835812263872059931102\n",
      "231185967969200169823088652554244185155\n",
      "4641813523158314555951435404703315045\n",
      "124942105743773737960584479743119366950\n",
      "178368107505163824085659798219169922050\n",
      "99304909021586273782227702243077774899\n",
      "17585371476462611796730778114375964463\n",
      "80079697097430960573689917370268640949\n",
      "90011730102390705426501427309886522619\n",
      "175625601643402208309249644535033276652\n",
      "173762096990047321033980517260126951283\n",
      "223902939227968640832418215271914056402\n",
      "216173103704728560000542015103239768024\n",
      "222382053933809986941908217580760094285\n",
      "198312685156258749042562534562842288082\n",
      "200165093596834946061552425291530790674\n",
      "206604390973088396649627454456954478088\n",
      "240823542924049396907298594164356548555\n",
      "246442998876634487612771969028369544793\n",
      "102465413000934157671574942388258511662\n",
      "132374903102926308069208466744283764216\n",
      "102633587629264630217117546619506700916\n",
      "105191048606097916444300976986225729194\n",
      "114293590736694876306819447147860841912\n",
      "14896574623697298218676003212728397883\n",
      "75224571400600274226904994365045440547\n",
      "27514877405181545927913227158429518571\n",
      "1051328822345132666039511448337394678\n",
      "195943569624433357111131605551985996619\n",
      "28041236210360778189363682408284759592\n",
      "131272681556202391847022859188185347953\n"
     ]
    }
   ],
   "execution_count": 65
  },
  {
   "metadata": {},
   "cell_type": "markdown",
   "source": "# FRI",
   "id": "671f7b534b572fe3"
  },
  {
   "metadata": {
    "ExecuteTime": {
     "end_time": "2024-10-09T14:42:27.203116Z",
     "start_time": "2024-10-09T14:42:27.193586Z"
    }
   },
   "cell_type": "code",
   "source": [
    "from FRI import *\n",
    "\n",
    "fri = Fri(H_w)\n",
    "\n",
    "fri_polys, fri_domains, fri_layers, fri_merkles = fri.commit(cp, H_w, cp_eval, mk, None)"
   ],
   "id": "8d82a3bafb3abec4",
   "outputs": [
    {
     "name": "stdout",
     "output_type": "stream",
     "text": [
      "next_len fri layer: 16\n",
      "next_len fri layer: 8\n"
     ]
    }
   ],
   "execution_count": 66
  },
  {
   "metadata": {
    "ExecuteTime": {
     "end_time": "2024-10-09T14:42:27.395519Z",
     "start_time": "2024-10-09T14:42:27.386758Z"
    }
   },
   "cell_type": "code",
   "source": [
    "#fri.decommit(1, fri_polys, fri_domains, fri_layers, fri_merkles)\n",
    "[len(i) for i in fri_layers]"
   ],
   "id": "8316c06828a2cbc7",
   "outputs": [
    {
     "data": {
      "text/plain": [
       "[32, 16, 8]"
      ]
     },
     "execution_count": 67,
     "metadata": {},
     "output_type": "execute_result"
    }
   ],
   "execution_count": 67
  },
  {
   "metadata": {},
   "cell_type": "markdown",
   "source": "",
   "id": "5d5a40cb5c57f0e1"
  },
  {
   "metadata": {},
   "cell_type": "markdown",
   "source": [
    "# Verify\n",
    "\n",
    "\n"
   ],
   "id": "a6f2ca1ccdb2e6ed"
  },
  {
   "metadata": {
    "ExecuteTime": {
     "end_time": "2024-10-09T14:42:27.712442Z",
     "start_time": "2024-10-09T14:42:27.704823Z"
    }
   },
   "cell_type": "code",
   "source": "mt_root = fx_root ",
   "id": "1ace0a22bfd005ac",
   "outputs": [],
   "execution_count": 68
  },
  {
   "metadata": {
    "ExecuteTime": {
     "end_time": "2024-10-09T14:42:28.109080Z",
     "start_time": "2024-10-09T14:42:28.104011Z"
    }
   },
   "cell_type": "code",
   "source": [
    "# 3 cp so 3 alphas\n",
    "alpha0, alpha1,alpha2 = FieldElement(1, Field.main()), FieldElement(1, Field.main()), FieldElement(1, Field.main())"
   ],
   "id": "4027955dacb03d58",
   "outputs": [],
   "execution_count": 69
  },
  {
   "metadata": {
    "ExecuteTime": {
     "end_time": "2024-10-09T14:42:28.461486Z",
     "start_time": "2024-10-09T14:42:28.455762Z"
    }
   },
   "cell_type": "code",
   "source": [
    "# CP merkle root\n",
    "cp_root = mk"
   ],
   "id": "e4a9d6ae33ee850e",
   "outputs": [],
   "execution_count": 70
  },
  {
   "metadata": {
    "ExecuteTime": {
     "end_time": "2024-10-09T14:42:28.799148Z",
     "start_time": "2024-10-09T14:42:28.793286Z"
    }
   },
   "cell_type": "code",
   "source": "idx = 1",
   "id": "acf7e8c02f315fdd",
   "outputs": [],
   "execution_count": 71
  },
  {
   "metadata": {
    "ExecuteTime": {
     "end_time": "2024-10-09T14:42:29.178113Z",
     "start_time": "2024-10-09T14:42:29.173424Z"
    }
   },
   "cell_type": "code",
   "source": "proof_f = fri.decommit_on_query(idx, fx_exp_eval, mt_root)",
   "id": "24afd8004b8cd26",
   "outputs": [],
   "execution_count": 72
  },
  {
   "metadata": {
    "ExecuteTime": {
     "end_time": "2024-10-09T14:42:29.660719Z",
     "start_time": "2024-10-09T14:42:29.653727Z"
    }
   },
   "cell_type": "code",
   "source": "proof_cp = fri.decommit_on_fri(idx, fri_polys, fri_domains, fri_layers, fri_merkles)\n",
   "id": "868c3823496c95c5",
   "outputs": [],
   "execution_count": 73
  },
  {
   "metadata": {
    "ExecuteTime": {
     "end_time": "2024-10-09T14:42:29.996012Z",
     "start_time": "2024-10-09T14:42:29.989776Z"
    }
   },
   "cell_type": "code",
   "source": [
    "# Basic check\n",
    "assert len(proof_cp) % 2\n",
    "v_last_one = proof_cp.pop()"
   ],
   "id": "f0099216c1f532b9",
   "outputs": [],
   "execution_count": 74
  },
  {
   "metadata": {
    "ExecuteTime": {
     "end_time": "2024-10-09T14:42:30.225079Z",
     "start_time": "2024-10-09T14:42:30.219355Z"
    }
   },
   "cell_type": "code",
   "source": [
    "last_one = fri_polys[-1].coefficients[0] # poly 0 shall be constant\n",
    "\n",
    "v_last_one\n",
    "assert v_last_one == last_one\n"
   ],
   "id": "f7cd857a5f36b4e0",
   "outputs": [],
   "execution_count": 75
  },
  {
   "metadata": {
    "ExecuteTime": {
     "end_time": "2024-10-09T14:42:30.372155Z",
     "start_time": "2024-10-09T14:42:30.364274Z"
    }
   },
   "cell_type": "code",
   "source": "from Merkle import verify_decommitment",
   "id": "a7e62a5896e4c5f2",
   "outputs": [],
   "execution_count": 76
  },
  {
   "metadata": {
    "ExecuteTime": {
     "end_time": "2024-10-09T14:42:30.449881Z",
     "start_time": "2024-10-09T14:42:30.436007Z"
    }
   },
   "cell_type": "code",
   "source": [
    "# Check polynomial constraint\n",
    "# First check evaluation of polynomial f is honest\n",
    "v_f_eval = proof_f[0::2]\n",
    "v_f_auth = proof_f[1::2]\n",
    "assert len(v_f_eval) == len(v_f_auth)\n",
    "for i in range(len(v_f_eval)):\n",
    "    assert verify_decommitment(idx + 8 * i, v_f_eval[i], v_f_auth[i], mt_root.root ), f'in iter {i}, go wrong'\n",
    "# Then check whether they could satify the recursive condition\n",
    "v_cp0 = proof_cp[:2]\n",
    "length = len(fri_layers[0]) # 8192 shoud be a prior knowledge\n",
    "assert verify_decommitment(idx % length, v_cp0[0], v_cp0[1], cp_root.root)"
   ],
   "id": "1f3068083372a696",
   "outputs": [
    {
     "name": "stdout",
     "output_type": "stream",
     "text": [
      "6c6038599b451ddf2a65e0b0a02b92546a6a47c35271508ab78a411c6d52994c\n",
      "6c6038599b451ddf2a65e0b0a02b92546a6a47c35271508ab78a411c6d52994c\n",
      "7599e83a45120e92505e0cd4b221567df58b3cb6f7637dbd75c8c88bc718e3c4\n"
     ]
    }
   ],
   "execution_count": 77
  },
  {
   "metadata": {
    "ExecuteTime": {
     "end_time": "2024-10-09T14:42:30.736993Z",
     "start_time": "2024-10-09T14:42:30.725958Z"
    }
   },
   "cell_type": "code",
   "source": [
    "# Check the polynomial constraint\n",
    "fx = v_f_eval[0]\n",
    "fgx = v_f_eval[1]\n",
    "x = H_w[idx]\n",
    "p0 = (fx - nonce_hash) / (x - G[0])\n",
    "p1 = (fx - FieldElement(18387883697599163565981562079465157039772126126815288883976149418505564317327, Field.main()))/ (x - G[len(trace)-1])\n",
    "\n",
    "#p2 = p2_num/p2_dem\n",
    "assert v_cp0[0] == (p0 + p1)\n",
    "print(\"poly constraint success!\")"
   ],
   "id": "2b52aaf88d0e14b",
   "outputs": [
    {
     "name": "stdout",
     "output_type": "stream",
     "text": [
      "poly constraint success!\n"
     ]
    }
   ],
   "execution_count": 78
  },
  {
   "metadata": {
    "ExecuteTime": {
     "end_time": "2024-10-09T14:42:30.787909Z",
     "start_time": "2024-10-09T14:42:30.778873Z"
    }
   },
   "cell_type": "code",
   "source": [
    "# Check low degree\n",
    "v_cp = proof_cp[::2]\n",
    "v_auth = proof_cp[1::2]\n",
    "assert len(v_cp) == len(v_auth)\n",
    "assert len(v_cp) % 2 == 0\n",
    "k = length\n",
    "for i in range(len(v_cp)//2 -1):\n",
    "    iter_idx = idx % k\n",
    "    iter_sib_idx = (idx + k // 2) % k\n",
    "    assert verify_decommitment(iter_idx, v_cp[2*i], v_auth[2*i], fri_merkles[i].root)\n",
    "    assert verify_decommitment(iter_sib_idx, v_cp[(2*i) + 1], v_auth[(2*i)+1], fri_merkles[i].root)\n",
    "    k = k // 2"
   ],
   "id": "fe35d162eec12aeb",
   "outputs": [
    {
     "name": "stdout",
     "output_type": "stream",
     "text": [
      "7599e83a45120e92505e0cd4b221567df58b3cb6f7637dbd75c8c88bc718e3c4\n",
      "7599e83a45120e92505e0cd4b221567df58b3cb6f7637dbd75c8c88bc718e3c4\n"
     ]
    }
   ],
   "execution_count": 79
  },
  {
   "metadata": {
    "ExecuteTime": {
     "end_time": "2024-10-09T14:43:15.445926Z",
     "start_time": "2024-10-09T14:43:15.434754Z"
    }
   },
   "cell_type": "code",
   "source": [
    "k = length\n",
    "x = H_w[idx]\n",
    "beta = [FieldElement(1, Field.main()) for i in range(99)]\n",
    "for i in range(len(v_cp)//2 - 1):\n",
    "    op1 = (v_cp[2*i] + v_cp[2*i + 1]) / FieldElement(2, Field.main())\n",
    "    op2 = (v_cp[2*i] - v_cp[2*i + 1]) / (FieldElement(2, Field.main())*x)\n",
    "    rhs = op1 + beta[i] * op2\n",
    "    assert v_cp[2*(i+1)] == rhs, f\" round {i}, CP(i+1) is {v_cp[2*(i+1)]} while rhs is {rhs}\"\n",
    "    x = x^2\n",
    "print(\"low degree test success!\")"
   ],
   "id": "875a12459125210d",
   "outputs": [
    {
     "name": "stdout",
     "output_type": "stream",
     "text": [
      "low degree test success!\n"
     ]
    }
   ],
   "execution_count": 82
  },
  {
   "metadata": {},
   "cell_type": "code",
   "outputs": [],
   "execution_count": null,
   "source": "",
   "id": "283cf2f924cb26bb"
  }
 ],
 "metadata": {
  "kernelspec": {
   "display_name": "Python 3",
   "language": "python",
   "name": "python3"
  },
  "language_info": {
   "codemirror_mode": {
    "name": "ipython",
    "version": 2
   },
   "file_extension": ".py",
   "mimetype": "text/x-python",
   "name": "python",
   "nbconvert_exporter": "python",
   "pygments_lexer": "ipython2",
   "version": "2.7.6"
  }
 },
 "nbformat": 4,
 "nbformat_minor": 5
}
